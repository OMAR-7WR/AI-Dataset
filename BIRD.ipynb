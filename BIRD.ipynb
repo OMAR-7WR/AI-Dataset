{
  "nbformat": 4,
  "nbformat_minor": 0,
  "metadata": {
    "colab": {
      "provenance": [],
      "authorship_tag": "ABX9TyML5fYd6UK3vMCS2Bt1khLY",
      "include_colab_link": true
    },
    "kernelspec": {
      "name": "python3",
      "display_name": "Python 3"
    },
    "language_info": {
      "name": "python"
    }
  },
  "cells": [
    {
      "cell_type": "markdown",
      "metadata": {
        "id": "view-in-github",
        "colab_type": "text"
      },
      "source": [
        "<a href=\"https://colab.research.google.com/github/OMAR-7WR/AI-Dataset/blob/main/BIRD.ipynb\" target=\"_parent\"><img src=\"https://colab.research.google.com/assets/colab-badge.svg\" alt=\"Open In Colab\"/></a>"
      ]
    },
    {
      "cell_type": "code",
      "execution_count": 1,
      "metadata": {
        "colab": {
          "base_uri": "https://localhost:8080/"
        },
        "id": "TH-gdnZWcUr5",
        "outputId": "74109137-6bb6-4fcf-afb9-49fc2ed8c814"
      },
      "outputs": [
        {
          "output_type": "stream",
          "name": "stdout",
          "text": [
            "Requirement already satisfied: pygame in /usr/local/lib/python3.11/dist-packages (2.6.1)\n"
          ]
        }
      ],
      "source": [
        "pip install pygame"
      ]
    },
    {
      "cell_type": "code",
      "source": [
        "import pygame\n",
        "import random\n",
        "import sys\n",
        "\n",
        "# Initialize pygame\n",
        "pygame.init()\n",
        "\n",
        "# Screen dimensions\n",
        "SCREEN_WIDTH = 800\n",
        "SCREEN_HEIGHT = 600\n",
        "FPS = 60\n",
        "\n",
        "# Colors\n",
        "WHITE = (255, 255, 255)\n",
        "BLACK = (0, 0, 0)\n",
        "RED = (255, 0, 0)\n",
        "BLUE = (0, 0, 255)\n",
        "GREEN = (0, 255, 0)\n",
        "YELLOW = (255, 255, 0)\n",
        "\n",
        "# Setup the game screen\n",
        "screen = pygame.display.set_mode((SCREEN_WIDTH, SCREEN_HEIGHT))\n",
        "pygame.display.set_caption(\"পাখি শিকার গেম\")\n",
        "clock = pygame.time.Clock()\n",
        "\n",
        "# Bird dimensions and position\n",
        "bird_width = 40\n",
        "bird_height = 30\n",
        "bird_x = random.randint(0, SCREEN_WIDTH - bird_width)\n",
        "bird_y = random.randint(50, 300)\n",
        "bird_speed = 3\n",
        "\n",
        "# Bullet dimensions\n",
        "bullet_width = 5\n",
        "bullet_height = 10\n",
        "bullets = []  # List to store bullets\n",
        "bullet_speed = -7\n",
        "\n",
        "# Player score\n",
        "score = 0\n",
        "font = pygame.font.SysFont(\"Arial\", 30)\n",
        "\n",
        "# Draw bird\n",
        "def draw_bird(x, y):\n",
        "    pygame.draw.ellipse(screen, GREEN, (x, y, bird_width, bird_height))\n",
        "\n",
        "# Draw bullet\n",
        "def draw_bullet(x, y):\n",
        "    pygame.draw.rect(screen, RED, (x, y, bullet_width, bullet_height))\n",
        "\n",
        "# Game loop\n",
        "running = True\n",
        "while running:\n",
        "    screen.fill(WHITE)\n",
        "\n",
        "    # Event handling\n",
        "    for event in pygame.event.get():\n",
        "        if event.type == pygame.QUIT:\n",
        "            running = False\n",
        "\n",
        "    # Bullet firing\n",
        "    keys = pygame.key.get_pressed()\n",
        "    if keys[pygame.K_SPACE]:\n",
        "        bullets.append([400, SCREEN_HEIGHT - 50])  # Fire bullet from center bottom\n",
        "\n",
        "    # Move bird\n",
        "    bird_x += bird_speed\n",
        "    if bird_x > SCREEN_WIDTH or bird_x < 0:\n",
        "        bird_speed *= -1\n",
        "\n",
        "    # Move bullets\n",
        "    for bullet in bullets:\n",
        "        bullet[1] += bullet_speed  # Move bullet up\n",
        "        if bullet[1] < 0:\n",
        "            bullets.remove(bullet)\n",
        "\n",
        "    # Collision detection\n",
        "    for bullet in bullets:\n",
        "        if (bird_x < bullet[0] < bird_x + bird_width) and (bird_y < bullet[1] < bird_y + bird_height):\n",
        "            bullets.remove(bullet)\n",
        "            score += 1\n",
        "            bird_x = random.randint(0, SCREEN_WIDTH - bird_width)\n",
        "            bird_y = random.randint(50, 300)\n",
        "\n",
        "    # Draw bird, bullets, and display score\n",
        "    draw_bird(bird_x, bird_y)\n",
        "    for bullet in bullets:\n",
        "        draw_bullet(bullet[0], bullet[1])\n",
        "\n",
        "    score_text = font.render(f\"স্কোর: {score}\", True, BLACK)\n",
        "    screen.blit(score_text, (10, 10))\n",
        "\n",
        "    pygame.display.flip()\n",
        "    clock.tick(FPS)\n",
        "\n",
        "# Quit the game\n",
        "pygame.quit()\n",
        "sys.exit()"
      ],
      "metadata": {
        "colab": {
          "base_uri": "https://localhost:8080/"
        },
        "id": "LHzPYIovc6ao",
        "outputId": "08626a0f-7eaf-4a48-94ea-cdc189072282"
      },
      "execution_count": null,
      "outputs": [
        {
          "output_type": "stream",
          "name": "stdout",
          "text": [
            "pygame 2.6.1 (SDL 2.28.4, Python 3.11.11)\n",
            "Hello from the pygame community. https://www.pygame.org/contribute.html\n"
          ]
        }
      ]
    }
  ]
}