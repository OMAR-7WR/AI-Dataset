{
  "cells": [
    {
      "cell_type": "markdown",
      "metadata": {
        "id": "view-in-github",
        "colab_type": "text"
      },
      "source": [
        "<a href=\"https://colab.research.google.com/github/OMAR-7WR/AI-Dataset/blob/main/b.ipynb\" target=\"_parent\"><img src=\"https://colab.research.google.com/assets/colab-badge.svg\" alt=\"Open In Colab\"/></a>"
      ]
    },
    {
      "cell_type": "code",
      "source": [
        "# Importing necessary libraries\n",
        "import random\n",
        "from time import sleep\n",
        "\n",
        "# Enhanced welcome message\n",
        "print(\"🎮 Welcome to the Ultimate Number Guessing Game!\")\n",
        "print(\"🤖 I will think of a number between 1 and 100.\")\n",
        "sleep(1)\n",
        "print(\"Can you guess it within limited attempts? Let's find out! 🚀\")\n",
        "\n",
        "# Generate a random number and set maximum attempts\n",
        "secret_number = random.randint(1, 100)\n",
        "max_attempts = 10\n",
        "attempts = 0\n",
        "\n",
        "print(\"\\n💡 Hint: You have only 10 attempts to guess the number. Good luck!\")\n",
        "\n",
        "# Game loop\n",
        "while attempts < max_attempts:\n",
        "    try:\n",
        "        # Take user input\n",
        "        guess = int(input(f\"\\nAttempt {attempts + 1}/{max_attempts}: Enter your guess: \"))\n",
        "        attempts += 1\n",
        "\n",
        "        # Check the guess\n",
        "        if guess < secret_number:\n",
        "            print(\"❌ Too low! Try a higher number. 🔼\")\n",
        "        elif guess > secret_number:\n",
        "            print(\"❌ Too high! Try a lower number. 🔽\")\n",
        "        else:\n",
        "            print(f\"\\n🎉 Congratulations! You guessed the number {secret_number} correctly in {attempts} attempts! 🎊\")\n",
        "            break\n",
        "\n",
        "        # Provide hints for the player\n",
        "        if abs(secret_number - guess) <= 10:\n",
        "            print(\"🔥 You're very close! Keep going!\")\n",
        "        else:\n",
        "            print(\"🌀 You're still far from the correct number. Try again!\")\n",
        "\n",
        "    except ValueError:\n",
        "        print(\"⚠️ Please enter a valid number! 🛑\")\n",
        "\n",
        "# Check if the player has used all attempts\n",
        "if attempts == max_attempts and guess != secret_number:\n",
        "    print(f\"\\n😢 You've used all {max_attempts} attempts. The correct number was {secret_number}. Better luck next time!\")"
      ],
      "metadata": {
        "id": "sOiURyBUUkGi"
      },
      "execution_count": null,
      "outputs": []
    },
    {
      "cell_type": "code",
      "source": [],
      "metadata": {
        "id": "tXk2bxS3UkJf"
      },
      "execution_count": null,
      "outputs": []
    },
    {
      "cell_type": "code",
      "source": [],
      "metadata": {
        "id": "FLtHlAFQUkMk"
      },
      "execution_count": null,
      "outputs": []
    },
    {
      "cell_type": "code",
      "source": [],
      "metadata": {
        "id": "O6625Xf0UkO8"
      },
      "execution_count": null,
      "outputs": []
    },
    {
      "cell_type": "code",
      "source": [],
      "metadata": {
        "id": "LNH9XBShUkSD"
      },
      "execution_count": null,
      "outputs": []
    },
    {
      "cell_type": "code",
      "source": [],
      "metadata": {
        "id": "emO-EnFxUkUt"
      },
      "execution_count": null,
      "outputs": []
    },
    {
      "cell_type": "code",
      "source": [],
      "metadata": {
        "id": "GXO-q1NjUkYS"
      },
      "execution_count": null,
      "outputs": []
    },
    {
      "cell_type": "code",
      "source": [
        "# Let's print a colorful \"Hello, World!\" animation!\n",
        "from time import sleep\n",
        "from IPython.display import clear_output\n",
        "\n",
        "colors = ['\\033[91m', '\\033[92m', '\\033[93m', '\\033[94m', '\\033[95m', '\\033[96m']\n",
        "text = \"Hello, Google Colab! 🎉\"\n",
        "\n",
        "for i in range(20):\n",
        "    clear_output(wait=True)\n",
        "    print(colors[i % len(colors)] + text + '\\033[0m')\n",
        "    sleep(0.3)"
      ],
      "metadata": {
        "id": "DosFjnSgUj8w"
      },
      "execution_count": null,
      "outputs": []
    },
    {
      "cell_type": "code",
      "source": [
        "# Import necessary libraries\n",
        "import random\n",
        "\n",
        "# Welcome message\n",
        "print(\"🎲 Welcome to the Number Guessing Game!\")\n",
        "print(\"I have selected a number between 1 and 100. Can you guess it? 🤔\")\n",
        "\n",
        "# Generate a random number\n",
        "secret_number = random.randint(1, 100)\n",
        "attempts = 0\n",
        "\n",
        "# Game loop\n",
        "while True:\n",
        "    try:\n",
        "        # Take user input\n",
        "        guess = int(input(\"Enter your guess: \"))\n",
        "        attempts += 1\n",
        "\n",
        "        # Check the guess\n",
        "        if guess < secret_number:\n",
        "            print(\"Too low! Try again. ⬇️\")\n",
        "        elif guess > secret_number:\n",
        "            print(\"Too high! Try again. ⬆️\")\n",
        "        else:\n",
        "            print(f\"🎉 Congratulations! You guessed the number in {attempts} attempts.\")\n",
        "            break\n",
        "    except ValueError:\n",
        "        print(\"Please enter a valid number! 🛑\")"
      ],
      "metadata": {
        "id": "QZEosf4rVeuy"
      },
      "execution_count": null,
      "outputs": []
    }
  ],
  "metadata": {
    "colab": {
      "name": "Welcome To Colab",
      "toc_visible": true,
      "provenance": [],
      "include_colab_link": true
    },
    "kernelspec": {
      "display_name": "Python 3",
      "name": "python3"
    }
  },
  "nbformat": 4,
  "nbformat_minor": 0
}