{
  "nbformat": 4,
  "nbformat_minor": 0,
  "metadata": {
    "colab": {
      "provenance": [],
      "toc_visible": true,
      "authorship_tag": "ABX9TyMG1QSZmCsKUCYThjFY04te",
      "include_colab_link": true
    },
    "kernelspec": {
      "name": "python3",
      "display_name": "Python 3"
    },
    "language_info": {
      "name": "python"
    }
  },
  "cells": [
    {
      "cell_type": "markdown",
      "metadata": {
        "id": "view-in-github",
        "colab_type": "text"
      },
      "source": [
        "<a href=\"https://colab.research.google.com/github/OMAR-7WR/AI-Dataset/blob/main/Bay.ipynb\" target=\"_parent\"><img src=\"https://colab.research.google.com/assets/colab-badge.svg\" alt=\"Open In Colab\"/></a>"
      ]
    },
    {
      "cell_type": "code",
      "execution_count": 3,
      "metadata": {
        "colab": {
          "base_uri": "https://localhost:8080/"
        },
        "id": "irGiTg8qkk58",
        "outputId": "a9348b0c-80f7-4d3d-d474-6bd8a8e3f2d0"
      },
      "outputs": [
        {
          "output_type": "stream",
          "name": "stdout",
          "text": [
            "Welcome to Huueiee App - Language Understanding System\n",
            "Type 'exit' to quit the program.\n",
            "Your input: hi\n",
            "Detected Language: sw\n",
            "Review Response: আপনার প্রশ্নটি সাধারণ। আমি তথ্য অনুসন্ধান করছি...\n",
            "Searching the web for your query...\n",
            "Sorry, no results found for your query.\n",
            "Your input: ok\n",
            "Detected Language: sk\n",
            "Review Response: আপনার প্রশ্নটি সাধারণ। আমি তথ্য অনুসন্ধান করছি...\n",
            "Searching the web for your query...\n",
            "Sorry, no results found for your query.\n",
            "Your input: exit\n",
            "Exiting the program. Goodbye!\n"
          ]
        }
      ],
      "source": [
        "import re\n",
        "from langdetect import detect, DetectorFactory\n",
        "from googlesearch import search\n",
        "import requests\n",
        "from bs4 import BeautifulSoup\n",
        "\n",
        "# ইনপুটের ভাষা শনাক্ত করার জন্য একটি ফাংশন\n",
        "def language_identifier(user_input):\n",
        "    try:\n",
        "        DetectorFactory.seed = 0  # ল্যাংগুয়েজ শনাক্ত করার নির্ভুলতা উন্নত করতে\n",
        "        language = detect(user_input)\n",
        "        return language\n",
        "    except Exception as e:\n",
        "        return \"Unknown\"\n",
        "\n",
        "# গুগল সার্চ ফাংশন যা ইউজারের প্রশ্নের সাথে সম্পর্কিত তথ্য বের করবে\n",
        "def google_search(query):\n",
        "    try:\n",
        "        # সার্চ করা এবং প্রথম ফলাফল ফেরত দেওয়া\n",
        "        results = search(query, num_results=3)  # এখন ৩টি ফলাফল পাওয়া যাবে\n",
        "        return results\n",
        "    except Exception as e:\n",
        "        return []\n",
        "\n",
        "# সার্চ ফলাফল থেকে তথ্য বের করার ফাংশন\n",
        "def extract_info_from_url(url):\n",
        "    try:\n",
        "        response = requests.get(url)\n",
        "        # চেক করব সফল HTTP স্ট্যাটাস কোড (200)\n",
        "        if response.status_code == 200:\n",
        "            soup = BeautifulSoup(response.text, \"html.parser\")\n",
        "            paragraphs = soup.find_all('p')\n",
        "            text = \" \".join([para.get_text() for para in paragraphs])\n",
        "            return text[:500]  # প্রথম 500 ক্যারেকটার রিটার্ন\n",
        "        else:\n",
        "            return \"Failed to retrieve data. HTTP Status: \" + str(response.status_code)\n",
        "    except Exception as e:\n",
        "        return \"Sorry, I couldn't retrieve data from the source.\"\n",
        "\n",
        "# প্রশ্ন পর্যালোচনা ফাংশন যা শুধুমাত্র গুগল সার্চ ও সোর্স থেকে তথ্য সংগ্রহ করবে\n",
        "def review_and_respond(user_input):\n",
        "    # প্রশ্নের ধরন চেক করার জন্য প্রাথমিক প্যাটার্ন\n",
        "    if re.search(r\"যে কোন|কেন|কীভাবে|কত\", user_input):\n",
        "        return \"এটি একটি সাধারণ প্রশ্ন। আমি Google সার্চ করতে যাচ্ছি...\"\n",
        "    if re.search(r\"ইতিহাস|অতীত|কি ঘটেছিল\", user_input):\n",
        "        return \"এটি একটি ইতিহাস সম্পর্কিত প্রশ্ন। আমি ইতিহাস থেকে উত্তর খুঁজছি...\"\n",
        "    return \"আপনার প্রশ্নটি সাধারণ। আমি তথ্য অনুসন্ধান করছি...\"\n",
        "\n",
        "# মূল ফাংশন যা ইউজারকে ইনপুট দিতে বলবে এবং তার ভাষা শনাক্ত করবে\n",
        "def main():\n",
        "    print(\"Welcome to Huueiee App - Language Understanding System\")\n",
        "    print(\"Type 'exit' to quit the program.\")\n",
        "\n",
        "    while True:\n",
        "        # ইউজারের ইনপুট নেয়া\n",
        "        user_input = input(\"Your input: \")\n",
        "\n",
        "        # 'exit' থাকলে প্রোগ্রামটি বন্ধ হয়ে যাবে\n",
        "        if user_input.lower() == \"exit\":\n",
        "            print(\"Exiting the program. Goodbye!\")\n",
        "            break\n",
        "\n",
        "        # ভাষা শনাক্ত করা\n",
        "        language = language_identifier(user_input)\n",
        "        print(f\"Detected Language: {language}\")\n",
        "\n",
        "        # প্রশ্ন পর্যালোচনা\n",
        "        review_response = review_and_respond(user_input)\n",
        "        print(\"Review Response:\", review_response)\n",
        "\n",
        "        # ইউজার প্রশ্নের সার্চ এর মাধ্যমে উত্তর খোঁজা\n",
        "        print(\"Searching the web for your query...\")\n",
        "        search_results = google_search(user_input)\n",
        "\n",
        "        if search_results:\n",
        "            print(\"Google Search Result Links: \")\n",
        "            for result in search_results:\n",
        "                print(result)\n",
        "                # গুগল সার্চ থেকে তথ্য বের করা\n",
        "                info_from_source = extract_info_from_url(result)\n",
        "                print(\"Extracted Information: \", info_from_source)\n",
        "        else:\n",
        "            print(\"Sorry, no results found for your query.\")\n",
        "\n",
        "if __name__ == \"__main__\":\n",
        "    main()"
      ]
    },
    {
      "cell_type": "code",
      "source": [
        "import re\n",
        "from langdetect import detect\n",
        "from googlesearch import search\n",
        "import requests\n",
        "from bs4 import BeautifulSoup\n",
        "\n",
        "# একটি ফাংশন যেটি ইনপুটের ভাষা শনাক্ত করবে\n",
        "def language_identifier(user_input):\n",
        "    try:\n",
        "        # এখানে langdetect লাইব্রেরি ব্যবহার করে ভাষা শনাক্ত করা হচ্ছে\n",
        "        language = detect(user_input)\n",
        "        return language\n",
        "    except Exception as e:\n",
        "        return \"Unknown\"\n",
        "\n",
        "# গুগল সার্চ ফাংশন যা ইউজারের প্রশ্নের সাথে সম্পর্কিত তথ্য বের করবে\n",
        "def google_search(query):\n",
        "    try:\n",
        "        # সার্চ করা এবং প্রথম ফলাফল ফেরত দেওয়া\n",
        "        results = search(query, num_results=1)\n",
        "        return results[0]\n",
        "    except Exception as e:\n",
        "        return None\n",
        "\n",
        "# সার্চ ফলাফলের লিঙ্ক থেকে তথ্য বের করার ফাংশন\n",
        "def extract_info_from_url(url):\n",
        "    try:\n",
        "        response = requests.get(url)\n",
        "        soup = BeautifulSoup(response.text, \"html.parser\")\n",
        "        paragraphs = soup.find_all('p')\n",
        "        text = \" \".join([para.get_text() for para in paragraphs])\n",
        "        return text[:500]  # প্রথম 500 ক্যারেকটার রিটার্ন করব\n",
        "    except Exception as e:\n",
        "        return \"Sorry, I couldn't retrieve data from the source.\"\n",
        "\n",
        "# প্রশ্ন পর্যালোচনা ফাংশন যা শুধুমাত্র গুগল সার্চ ও সোর্স থেকে তথ্য সংগ্রহ করবে\n",
        "def review_and_respond(user_input):\n",
        "    # সাধারণ প্রশ্নগুলির জন্য কিছু প্রাথমিক পর্যালোচনা করা\n",
        "    if re.search(r\"যে কোন|কেন|কীভাবে|কত\", user_input):\n",
        "        return \"এটি একটি সাধারণ প্রশ্ন। আমি Google সার্চ করতে যাচ্ছি...\"\n",
        "\n",
        "    if re.search(r\"ইতিহাস|অতীত|কি ঘটেছিল\", user_input):\n",
        "        return \"এটি একটি ইতিহাস সম্পর্কিত প্রশ্ন। আমি ইতিহাস থেকে উত্তর খুঁজছি...\"\n",
        "\n",
        "    return \"আপনার প্রশ্নটি খুবই সাধারণ। আমি তথ্য অনুসন্ধান করছি...\"\n",
        "\n",
        "# মূল ফাংশন যা ইউজারকে ইনপুট দিতে বলবে এবং তার ভাষা শনাক্ত করবে\n",
        "def main():\n",
        "    print(\"Welcome to Huueiee App - Language Understanding System\")\n",
        "    print(\"Type 'exit' to quit the program.\")\n",
        "\n",
        "    while True:\n",
        "        # ইউজারের ইনপুট নেয়া\n",
        "        user_input = input(\"Your input: \")\n",
        "\n",
        "        # 'exit' থাকলে প্রোগ্রামটি বন্ধ হয়ে যাবে\n",
        "        if user_input.lower() == \"exit\":\n",
        "            print(\"Exiting the program. Goodbye!\")\n",
        "            break\n",
        "\n",
        "        # ভাষা শনাক্ত করা\n",
        "        language = language_identifier(user_input)\n",
        "        print(f\"Detected Language: {language}\")\n",
        "\n",
        "        # প্রশ্ন পর্যালোচনা\n",
        "        review_response = review_and_respond(user_input)\n",
        "        print(\"Review Response:\", review_response)\n",
        "\n",
        "        # ইউজার প্রশ্নের সার্চ এর মাধ্যমে উত্তর খোঁজা\n",
        "        print(\"Searching the web for your query...\")\n",
        "        search_result = google_search(user_input)\n",
        "\n",
        "        if search_result:\n",
        "            print(\"Google Search Result Link: \", search_result)\n",
        "            # গুগল সার্চ থেকে তথ্য বের করা\n",
        "            info_from_source = extract_info_from_url(search_result)\n",
        "            print(\"Extracted Information: \", info_from_source)\n",
        "        else:\n",
        "            print(\"Sorry, no results found for your query.\")\n",
        "\n",
        "if __name__ == \"__main__\":\n",
        "    main()"
      ],
      "metadata": {
        "colab": {
          "base_uri": "https://localhost:8080/"
        },
        "id": "uhfJnzuqpNJT",
        "outputId": "3ce4310f-5e7a-4731-a5d2-c8986a134420"
      },
      "execution_count": 4,
      "outputs": [
        {
          "output_type": "stream",
          "name": "stdout",
          "text": [
            "Welcome to Huueiee App - Language Understanding System\n",
            "Type 'exit' to quit the program.\n",
            "Your input: ki\n",
            "Detected Language: sw\n",
            "Review Response: আপনার প্রশ্নটি খুবই সাধারণ। আমি তথ্য অনুসন্ধান করছি...\n",
            "Searching the web for your query...\n",
            "Sorry, no results found for your query.\n",
            "Your input: hello\n",
            "Detected Language: fi\n",
            "Review Response: আপনার প্রশ্নটি খুবই সাধারণ। আমি তথ্য অনুসন্ধান করছি...\n",
            "Searching the web for your query...\n",
            "Sorry, no results found for your query.\n",
            "Your input: hiiiiii\n",
            "Detected Language: so\n",
            "Review Response: আপনার প্রশ্নটি খুবই সাধারণ। আমি তথ্য অনুসন্ধান করছি...\n",
            "Searching the web for your query...\n",
            "Sorry, no results found for your query.\n",
            "Your input: exit\n",
            "Exiting the program. Goodbye!\n"
          ]
        }
      ]
    },
    {
      "cell_type": "code",
      "source": [
        "pip install langdetect\n"
      ],
      "metadata": {
        "colab": {
          "base_uri": "https://localhost:8080/"
        },
        "id": "cJgvSJWWmhyp",
        "outputId": "37f7b12f-26b2-41c2-a869-e7082793a9fb"
      },
      "execution_count": 2,
      "outputs": [
        {
          "output_type": "stream",
          "name": "stdout",
          "text": [
            "Collecting langdetect\n",
            "  Downloading langdetect-1.0.9.tar.gz (981 kB)\n",
            "\u001b[?25l     \u001b[90m━━━━━━━━━━━━━━━━━━━━━━━━━━━━━━━━━━━━━━━━\u001b[0m \u001b[32m0.0/981.5 kB\u001b[0m \u001b[31m?\u001b[0m eta \u001b[36m-:--:--\u001b[0m\r\u001b[2K     \u001b[91m━━━━━━━━━━\u001b[0m\u001b[91m╸\u001b[0m\u001b[90m━━━━━━━━━━━━━━━━━━━━━━━━━━━━━\u001b[0m \u001b[32m266.2/981.5 kB\u001b[0m \u001b[31m7.8 MB/s\u001b[0m eta \u001b[36m0:00:01\u001b[0m\r\u001b[2K     \u001b[91m━━━━━━━━━━━━━━━━━━━━━━━━━━━━━━━━━━━━━━━\u001b[0m\u001b[91m╸\u001b[0m \u001b[32m972.8/981.5 kB\u001b[0m \u001b[31m17.7 MB/s\u001b[0m eta \u001b[36m0:00:01\u001b[0m\r\u001b[2K     \u001b[90m━━━━━━━━━━━━━━━━━━━━━━━━━━━━━━━━━━━━━━━━\u001b[0m \u001b[32m981.5/981.5 kB\u001b[0m \u001b[31m12.8 MB/s\u001b[0m eta \u001b[36m0:00:00\u001b[0m\n",
            "\u001b[?25h  Preparing metadata (setup.py) ... \u001b[?25l\u001b[?25hdone\n",
            "Requirement already satisfied: six in /usr/local/lib/python3.11/dist-packages (from langdetect) (1.17.0)\n",
            "Building wheels for collected packages: langdetect\n",
            "  Building wheel for langdetect (setup.py) ... \u001b[?25l\u001b[?25hdone\n",
            "  Created wheel for langdetect: filename=langdetect-1.0.9-py3-none-any.whl size=993222 sha256=73ae1ad32c00754b8bb7f9920e1aab1516d466f93d077ee2d54614318bcbce6d\n",
            "  Stored in directory: /root/.cache/pip/wheels/0a/f2/b2/e5ca405801e05eb7c8ed5b3b4bcf1fcabcd6272c167640072e\n",
            "Successfully built langdetect\n",
            "Installing collected packages: langdetect\n",
            "Successfully installed langdetect-1.0.9\n"
          ]
        }
      ]
    }
  ]
}